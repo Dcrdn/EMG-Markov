{
 "cells": [
  {
   "cell_type": "code",
   "execution_count": 47,
   "metadata": {},
   "outputs": [],
   "source": [
    "import numpy as np\n",
    "import pandas as pd\n",
    "import matplotlib.pyplot as plt\n",
    "import scipy as sp\n",
    "from scipy import signal as sp_signal\n",
    "import biosignalsnotebooks as bsnb\n",
    "from statistics import mode\n",
    "import pickle\n",
    "from hmmlearn import hmm\n",
    "from sklearn.preprocessing import normalize"
   ]
  },
  {
   "cell_type": "code",
   "execution_count": 2,
   "metadata": {},
   "outputs": [],
   "source": [
    "def open_file(archivo):\n",
    "    df = pd.read_csv(archivo, sep='\\t', header=None)\n",
    "    df.columns = ['Time', 'C 1', 'C 2', 'C 3', 'C 4', 'Timestamp', 'Lecture code', 'Dummy']\n",
    "    unwanted = ['C 2', 'C 4']\n",
    "    del df['Dummy']\n",
    "    for column in unwanted:\n",
    "        del df[column]\n",
    "    return df"
   ]
  },
  {
   "cell_type": "code",
   "execution_count": 33,
   "metadata": {},
   "outputs": [],
   "source": [
    "class SignalProcessing:\n",
    "    def __init__(self, df, columnas):\n",
    "        self.df = df\n",
    "        self.columnas = columnas\n",
    "        self.matriz = None\n",
    "        self.periodos = None\n",
    "        self.psd_matriz = None\n",
    "        self.signals = None\n",
    "\n",
    "    def apply_emg_filter(self):\n",
    "        for columna in self.columnas:   \n",
    "            self.df[columna], _, _ = self.filter_emg(self.df[columna])\n",
    "\n",
    "    def filter_emg(self, emg, low_pass=10, sfreq = 256, high_band = 4, low_band = 40):\n",
    "        # Normalize cut off freq to sampling freq\n",
    "        high_band = high_band/(sfreq/2)\n",
    "        low_band = low_band/(sfreq/2)\n",
    "\n",
    "        # Create bandpass filter for emg\n",
    "        b1, a1 = sp.signal.butter(4, [high_band, low_band], btype='bandpass')\n",
    "\n",
    "        # process emg signal: filter emg\n",
    "        emg_filtered = sp.signal.filtfilt(b1,a1,emg)\n",
    "\n",
    "        # Process emg signal recify\n",
    "        emg_rectified = abs(emg_filtered)\n",
    "\n",
    "        # low pass filter and apply to rectified signal to get emg envelope\n",
    "        low_pass = low_pass/(sfreq/2)\n",
    "        b2, a2 = sp.signal.butter(4, low_pass, btype='lowpass')\n",
    "        emg_envelope= sp.signal.filtfilt(b2, a2, emg_rectified)\n",
    "        return emg_filtered, emg_rectified, emg_envelope\n",
    "\n",
    "    def get_periodos(self, per_time = False): # List[Tuple[int]]\n",
    "        lecture_codes = self.df['Lecture code'].values\n",
    "        times = self.df['Time'].values\n",
    "        periodos = []\n",
    "        size = len(times)\n",
    "        active_signal = False\n",
    "        current_period = []\n",
    "        for i in range(size):\n",
    "            code = int(lecture_codes[i])\n",
    "            time = int(times[i])\n",
    "            append = i if not per_time else times[i]\n",
    "\n",
    "            if code>=100 and code <=110:\n",
    "                active_signal = True\n",
    "\n",
    "            if active_signal and len(current_period)==0:\n",
    "                current_period.append(append) # time\n",
    "\n",
    "            if code >= 200 and active_signal:\n",
    "                active_signal = False\n",
    "                current_period.append(append) # time\n",
    "                periodos.append(tuple(current_period))\n",
    "                current_period = []\n",
    "        self.periodos = periodos\n",
    "        return self.periodos\n",
    "    \n",
    "    def get_elements_per_window(self): # int\n",
    "        if  self.periodos:\n",
    "            self.get_periodos()\n",
    "        periodos = self.periodos\n",
    "        difs = []\n",
    "        for init,end in periodos:\n",
    "            diferencia = end - init\n",
    "            difs.append(diferencia)\n",
    "        return mode(difs)\n",
    "    \n",
    "    def get_all_periods(self, periodos):\n",
    "        last_end = -1\n",
    "        new_periodos = []\n",
    "        for i in range(len(periodos)): #asumiendo que nunca empezamos en 0\n",
    "            init,end = periodos[i]\n",
    "            new_period = [last_end+1, init]\n",
    "            last_end = end\n",
    "            new_periodos.append(new_period)\n",
    "            new_periodos.append(periodos[i])\n",
    "        return new_periodos\n",
    "\n",
    "    def create_matriz(self, size_ventana = 15, all_p = False):\n",
    "        df = self.df\n",
    "        columnas = self.columnas\n",
    "        lecture_codes = self.df['Lecture code'].values\n",
    "        periodos = self.get_periodos() #periodos con codigos.. 101 102 5000 9000\n",
    "        elements_per_second = self.get_elements_per_window()\n",
    "        matriz = {} # signal_code: columnas x time x epochs\n",
    "        elementos_por_ventana = int(elements_per_second*size_ventana/15)\n",
    "        all_periods = self.get_all_periods(periodos)# [5000 9000] [0 5000, 5000 9000, 90001 ...]\n",
    "        periodos = all_periods if all_p else periodos\n",
    "        for nombre_columna in columnas:\n",
    "            columna = df[nombre_columna].values\n",
    "            epochs = []\n",
    "            epochs_per_signal = {}\n",
    "            for init,end in periodos:\n",
    "                current_epoch = []\n",
    "                current_signal = lecture_codes[init]\n",
    "                for i in range(init,end):\n",
    "                    freq = columna[i]\n",
    "                    current_epoch.append(freq)\n",
    "                    if len(current_epoch) == elementos_por_ventana:\n",
    "                        if current_signal not in epochs_per_signal:\n",
    "                            epochs_per_signal[current_signal] = []\n",
    "                        epochs_per_signal[current_signal].append(current_epoch)\n",
    "                        epochs.append(current_epoch)\n",
    "                        current_epoch = []\n",
    "#             At this point we have epochs_per_signal like this, for just 1 chanel\n",
    "#             101: [[],[]]\n",
    "#             102: [[],[]]\n",
    "            for signal,epochs in epochs_per_signal.items():\n",
    "                if signal not in matriz:\n",
    "                    matriz[signal] = []\n",
    "                matriz[signal].append(epochs) #agregamos los epochs del canal de la señal\n",
    "        self.matriz = matriz\n",
    "    \n",
    "    def generate_psd_matrix(self):\n",
    "        psd_matriz = {}\n",
    "        for signal,canales in self.matriz.items():\n",
    "            current_matriz = []\n",
    "            for canal in canales:\n",
    "                cnl = []\n",
    "                for epoch in canal:\n",
    "                    freqs, psd = sp_signal.periodogram(epoch, 256) # fs\n",
    "                    cnl.append(psd)\n",
    "                current_matriz.append(cnl)\n",
    "            # current matriz tiene la info de una señal\n",
    "            psd_matriz[signal] = current_matriz\n",
    "        self.psd_matriz = psd_matriz\n",
    "\n",
    "    def create_df(self):\n",
    "        rows_matriz = []\n",
    "        for signal,canales in self.psd_matriz.items():\n",
    "            current_epoch = 0\n",
    "            total_epochs = len(canales[0])\n",
    "            while(current_epoch<total_epochs):\n",
    "                epoch_per_signal = []\n",
    "                for canal in canales:\n",
    "                    epoch_per_signal.extend(canal[current_epoch])\n",
    "                epoch_per_signal.append(signal)\n",
    "                rows_matriz.append(epoch_per_signal)  \n",
    "                current_epoch+=1\n",
    "        self.df_psd = pd.DataFrame.from_records(rows_matriz)\n",
    "    \n",
    "    def plot_df(self, canales, init = None, end = None):\n",
    "        self.df.iloc[init:end].plot(x='Time', y=canales, figsize=(20,8))"
   ]
  },
  {
   "cell_type": "markdown",
   "metadata": {},
   "source": [
    "### Pre procesamiento de la señan para entrenar nuestro ´clasificador´"
   ]
  },
  {
   "cell_type": "markdown",
   "metadata": {},
   "source": [
    "We have 4 chanels, we want to use C1 and C3 since they are the ones who tells us insides about the signals"
   ]
  },
  {
   "cell_type": "markdown",
   "metadata": {},
   "source": [
    "Lecture code is the activity done.\n",
    "Activity signal: 100.... 199\n",
    "If we found a 10x, this means at this time our activity starts, if we found a 20x, this means our activity stops\n",
    " <pre>\n",
    "0 0 0 0 101 0 0 0 0 0 200 0 0 0 0\\\n",
    "         |             |\\\n",
    "    Activity starts    Stops \n",
    " <pre>\n",
    " \n",
    " So we want to be able to classify those active signals with high accuracy"
   ]
  },
  {
   "cell_type": "code",
   "execution_count": 4,
   "metadata": {},
   "outputs": [
    {
     "data": {
      "text/html": [
       "<div>\n",
       "<style scoped>\n",
       "    .dataframe tbody tr th:only-of-type {\n",
       "        vertical-align: middle;\n",
       "    }\n",
       "\n",
       "    .dataframe tbody tr th {\n",
       "        vertical-align: top;\n",
       "    }\n",
       "\n",
       "    .dataframe thead th {\n",
       "        text-align: right;\n",
       "    }\n",
       "</style>\n",
       "<table border=\"1\" class=\"dataframe\">\n",
       "  <thead>\n",
       "    <tr style=\"text-align: right;\">\n",
       "      <th></th>\n",
       "      <th>Time</th>\n",
       "      <th>C 1</th>\n",
       "      <th>C 3</th>\n",
       "      <th>Timestamp</th>\n",
       "      <th>Lecture code</th>\n",
       "    </tr>\n",
       "  </thead>\n",
       "  <tbody>\n",
       "    <tr>\n",
       "      <th>0</th>\n",
       "      <td>0.000000</td>\n",
       "      <td>-17.213388</td>\n",
       "      <td>-3.959528</td>\n",
       "      <td>1.600423e+12</td>\n",
       "      <td>0</td>\n",
       "    </tr>\n",
       "    <tr>\n",
       "      <th>1</th>\n",
       "      <td>0.003906</td>\n",
       "      <td>-1.411259</td>\n",
       "      <td>-5.499511</td>\n",
       "      <td>1.600423e+12</td>\n",
       "      <td>0</td>\n",
       "    </tr>\n",
       "    <tr>\n",
       "      <th>2</th>\n",
       "      <td>0.007812</td>\n",
       "      <td>43.181385</td>\n",
       "      <td>-0.561774</td>\n",
       "      <td>1.600423e+12</td>\n",
       "      <td>0</td>\n",
       "    </tr>\n",
       "    <tr>\n",
       "      <th>3</th>\n",
       "      <td>0.011719</td>\n",
       "      <td>57.539547</td>\n",
       "      <td>3.926640</td>\n",
       "      <td>1.600423e+12</td>\n",
       "      <td>0</td>\n",
       "    </tr>\n",
       "    <tr>\n",
       "      <th>4</th>\n",
       "      <td>0.015625</td>\n",
       "      <td>3.823523</td>\n",
       "      <td>1.838967</td>\n",
       "      <td>1.600423e+12</td>\n",
       "      <td>0</td>\n",
       "    </tr>\n",
       "  </tbody>\n",
       "</table>\n",
       "</div>"
      ],
      "text/plain": [
       "       Time        C 1       C 3     Timestamp  Lecture code\n",
       "0  0.000000 -17.213388 -3.959528  1.600423e+12             0\n",
       "1  0.003906  -1.411259 -5.499511  1.600423e+12             0\n",
       "2  0.007812  43.181385 -0.561774  1.600423e+12             0\n",
       "3  0.011719  57.539547  3.926640  1.600423e+12             0\n",
       "4  0.015625   3.823523  1.838967  1.600423e+12             0"
      ]
     },
     "execution_count": 4,
     "metadata": {},
     "output_type": "execute_result"
    }
   ],
   "source": [
    "size_window = .2\n",
    "canales = ['C 1', 'C 3']\n",
    "archivo = 'Izquierda - Derecha - Cerrado 1.txt'\n",
    "df = open_file(archivo)\n",
    "df.head()"
   ]
  },
  {
   "cell_type": "code",
   "execution_count": 5,
   "metadata": {},
   "outputs": [],
   "source": [
    "signal_processing = SignalProcessing(df, canales)"
   ]
  },
  {
   "cell_type": "code",
   "execution_count": 6,
   "metadata": {},
   "outputs": [],
   "source": [
    "# signal_processing.plot_df(['C 1'], 14000, 15000)"
   ]
  },
  {
   "cell_type": "markdown",
   "metadata": {},
   "source": [
    "Aplicamos un filtro al emg, para cada canal hacemos un pasabanda de la signal que nos interesa"
   ]
  },
  {
   "cell_type": "code",
   "execution_count": 7,
   "metadata": {},
   "outputs": [],
   "source": [
    "signal_processing.apply_emg_filter()"
   ]
  },
  {
   "cell_type": "code",
   "execution_count": 8,
   "metadata": {},
   "outputs": [
    {
     "data": {
      "text/html": [
       "<div>\n",
       "<style scoped>\n",
       "    .dataframe tbody tr th:only-of-type {\n",
       "        vertical-align: middle;\n",
       "    }\n",
       "\n",
       "    .dataframe tbody tr th {\n",
       "        vertical-align: top;\n",
       "    }\n",
       "\n",
       "    .dataframe thead th {\n",
       "        text-align: right;\n",
       "    }\n",
       "</style>\n",
       "<table border=\"1\" class=\"dataframe\">\n",
       "  <thead>\n",
       "    <tr style=\"text-align: right;\">\n",
       "      <th></th>\n",
       "      <th>Time</th>\n",
       "      <th>C 1</th>\n",
       "      <th>C 3</th>\n",
       "      <th>Timestamp</th>\n",
       "      <th>Lecture code</th>\n",
       "    </tr>\n",
       "  </thead>\n",
       "  <tbody>\n",
       "    <tr>\n",
       "      <th>0</th>\n",
       "      <td>0.000000</td>\n",
       "      <td>0.180420</td>\n",
       "      <td>-0.536715</td>\n",
       "      <td>1.600423e+12</td>\n",
       "      <td>0</td>\n",
       "    </tr>\n",
       "    <tr>\n",
       "      <th>1</th>\n",
       "      <td>0.003906</td>\n",
       "      <td>36.072495</td>\n",
       "      <td>1.873235</td>\n",
       "      <td>1.600423e+12</td>\n",
       "      <td>0</td>\n",
       "    </tr>\n",
       "    <tr>\n",
       "      <th>2</th>\n",
       "      <td>0.007812</td>\n",
       "      <td>49.487203</td>\n",
       "      <td>3.505922</td>\n",
       "      <td>1.600423e+12</td>\n",
       "      <td>0</td>\n",
       "    </tr>\n",
       "    <tr>\n",
       "      <th>3</th>\n",
       "      <td>0.011719</td>\n",
       "      <td>34.852487</td>\n",
       "      <td>3.641570</td>\n",
       "      <td>1.600423e+12</td>\n",
       "      <td>0</td>\n",
       "    </tr>\n",
       "    <tr>\n",
       "      <th>4</th>\n",
       "      <td>0.015625</td>\n",
       "      <td>8.286470</td>\n",
       "      <td>2.019936</td>\n",
       "      <td>1.600423e+12</td>\n",
       "      <td>0</td>\n",
       "    </tr>\n",
       "  </tbody>\n",
       "</table>\n",
       "</div>"
      ],
      "text/plain": [
       "       Time        C 1       C 3     Timestamp  Lecture code\n",
       "0  0.000000   0.180420 -0.536715  1.600423e+12             0\n",
       "1  0.003906  36.072495  1.873235  1.600423e+12             0\n",
       "2  0.007812  49.487203  3.505922  1.600423e+12             0\n",
       "3  0.011719  34.852487  3.641570  1.600423e+12             0\n",
       "4  0.015625   8.286470  2.019936  1.600423e+12             0"
      ]
     },
     "execution_count": 8,
     "metadata": {},
     "output_type": "execute_result"
    }
   ],
   "source": [
    "signal_processing.df.head()"
   ]
  },
  {
   "cell_type": "code",
   "execution_count": 9,
   "metadata": {},
   "outputs": [],
   "source": [
    "# signal_processing.plot_df(['C 1'], 14000, 15000)"
   ]
  },
  {
   "cell_type": "markdown",
   "metadata": {},
   "source": [
    "Ahora queremos tener nuestros datos divididos por señal, por canal y por epoch (duración de nuestra ventana)\n",
    "\n",
    "Entonces estamos generando un diccionario con el formato:\n",
    " <pre>\n",
    "{\n",
    "    101: [\n",
    "            [[1.1, 1.2, 1.3...], [1.2, 1.3, 1.4...]], # Canal 1, tiene 2 epochs en este ejemplo\n",
    "            [[1.1, 1.2, 1.3...], [1.2, 1.3, 1.4...]]  # Canal 2, tiene 2 epochs en este ejemplo\n",
    "        ]\n",
    "    102: ....\n",
    "}\n",
    " <pre>\n",
    "Entonces todo lo que tenemos en 101, son señales del evento 101, separado por canal y por epoch, el epoch fue hecho calculando la cantidad de elementos deseados en el periodo de tiempo dicho"
   ]
  },
  {
   "cell_type": "code",
   "execution_count": 10,
   "metadata": {},
   "outputs": [],
   "source": [
    "signal_processing.create_matriz(size_window)"
   ]
  },
  {
   "cell_type": "code",
   "execution_count": 11,
   "metadata": {},
   "outputs": [
    {
     "data": {
      "text/plain": [
       "dict_keys([101, 103, 102])"
      ]
     },
     "execution_count": 11,
     "metadata": {},
     "output_type": "execute_result"
    }
   ],
   "source": [
    "signal_processing.matriz.keys()"
   ]
  },
  {
   "cell_type": "code",
   "execution_count": 12,
   "metadata": {},
   "outputs": [
    {
     "data": {
      "text/plain": [
       "(2, 450, 51)"
      ]
     },
     "execution_count": 12,
     "metadata": {},
     "output_type": "execute_result"
    }
   ],
   "source": [
    "len(signal_processing.matriz[101]), len(signal_processing.matriz[101][0]),  len(signal_processing.matriz[101][0][0])"
   ]
  },
  {
   "cell_type": "markdown",
   "metadata": {},
   "source": [
    "Tenemos 2 canales con 450 epochs que duran .2 segundos, esto es 51 elementos del df, esto para cada una de nuestras señales, que son 101, 103, 102 y 0"
   ]
  },
  {
   "cell_type": "markdown",
   "metadata": {},
   "source": [
    "Ahora que que tenemos nuestros epochs separados, queremos transformar la señal que tenemos para poder usarla y crear nuestro \"clasificador\".\n",
    "Queremos obtener el PSD, Power Spectral Density, de la señal, la cual describe el poder presente en función de la frecuencia por unidad de frecuencia, entonces a cada epoch le aplicamos un filtro de PSD"
   ]
  },
  {
   "cell_type": "markdown",
   "metadata": {},
   "source": [
    "Comparemos la matriz sin psd y con psd"
   ]
  },
  {
   "cell_type": "code",
   "execution_count": 14,
   "metadata": {},
   "outputs": [
    {
     "data": {
      "text/html": [
       "<div>\n",
       "<style scoped>\n",
       "    .dataframe tbody tr th:only-of-type {\n",
       "        vertical-align: middle;\n",
       "    }\n",
       "\n",
       "    .dataframe tbody tr th {\n",
       "        vertical-align: top;\n",
       "    }\n",
       "\n",
       "    .dataframe thead th {\n",
       "        text-align: right;\n",
       "    }\n",
       "</style>\n",
       "<table border=\"1\" class=\"dataframe\">\n",
       "  <thead>\n",
       "    <tr style=\"text-align: right;\">\n",
       "      <th></th>\n",
       "      <th>No PSD</th>\n",
       "      <th>PSD</th>\n",
       "    </tr>\n",
       "  </thead>\n",
       "  <tbody>\n",
       "    <tr>\n",
       "      <th>0</th>\n",
       "      <td>-0.153660</td>\n",
       "      <td>1.142341e-34</td>\n",
       "    </tr>\n",
       "    <tr>\n",
       "      <th>1</th>\n",
       "      <td>0.040158</td>\n",
       "      <td>2.113359e-02</td>\n",
       "    </tr>\n",
       "    <tr>\n",
       "      <th>2</th>\n",
       "      <td>0.279784</td>\n",
       "      <td>4.224753e-02</td>\n",
       "    </tr>\n",
       "    <tr>\n",
       "      <th>3</th>\n",
       "      <td>0.778377</td>\n",
       "      <td>1.872044e-02</td>\n",
       "    </tr>\n",
       "    <tr>\n",
       "      <th>4</th>\n",
       "      <td>1.477685</td>\n",
       "      <td>1.532387e-01</td>\n",
       "    </tr>\n",
       "    <tr>\n",
       "      <th>5</th>\n",
       "      <td>1.929150</td>\n",
       "      <td>5.653796e-02</td>\n",
       "    </tr>\n",
       "    <tr>\n",
       "      <th>6</th>\n",
       "      <td>1.580263</td>\n",
       "      <td>1.281858e-02</td>\n",
       "    </tr>\n",
       "    <tr>\n",
       "      <th>7</th>\n",
       "      <td>0.281111</td>\n",
       "      <td>3.991137e-02</td>\n",
       "    </tr>\n",
       "    <tr>\n",
       "      <th>8</th>\n",
       "      <td>-1.428693</td>\n",
       "      <td>2.131640e-02</td>\n",
       "    </tr>\n",
       "    <tr>\n",
       "      <th>9</th>\n",
       "      <td>-2.563328</td>\n",
       "      <td>4.667200e-03</td>\n",
       "    </tr>\n",
       "  </tbody>\n",
       "</table>\n",
       "</div>"
      ],
      "text/plain": [
       "     No PSD           PSD\n",
       "0 -0.153660  1.142341e-34\n",
       "1  0.040158  2.113359e-02\n",
       "2  0.279784  4.224753e-02\n",
       "3  0.778377  1.872044e-02\n",
       "4  1.477685  1.532387e-01\n",
       "5  1.929150  5.653796e-02\n",
       "6  1.580263  1.281858e-02\n",
       "7  0.281111  3.991137e-02\n",
       "8 -1.428693  2.131640e-02\n",
       "9 -2.563328  4.667200e-03"
      ]
     },
     "execution_count": 14,
     "metadata": {},
     "output_type": "execute_result"
    }
   ],
   "source": [
    "data = {'No PSD':signal_processing.matriz[101][0][0][:10],\n",
    "        'PSD':signal_processing.psd_matriz[101][0][0][:10]}\n",
    "df_psd_tmp = pd.DataFrame(data)\n",
    "df_psd_tmp"
   ]
  },
  {
   "cell_type": "markdown",
   "metadata": {},
   "source": [
    "Finalmente para tener nuestros datos listos, necesitamos tenerlos en otro formato. Actualmente lo tenemos estructurado pero ahora lo necesitamos de la manera X y, como para un clasificador\n",
    "\n",
    "Entonces, estamos de acuerdo en que los diferentes canales para una misma señal comparten la señal.. por ejemplo\n",
    "<pre>\n",
    "C1. C2 Lecture\n",
    "1   2    101\n",
    "1   2    0\n",
    "1   2    0\n",
    "0.  0.   200\n",
    "\n",
    "C1 y C2 pertenecen a la misma señal de 101, pero son diferentes señales, son diferentes canales, podemos verlo como diferentes señales pero que hablan de la misma señal, entonces queremos juntarlas\n",
    "\n",
    "Lo que haremos será crear un df con la forma\n",
    "\n",
    "Canal 1 + Canal 3 + .. +  Canal N | Valor, siendo valor 101 por ejemplo"
   ]
  },
  {
   "cell_type": "code",
   "execution_count": 15,
   "metadata": {},
   "outputs": [],
   "source": [
    "signal_processing.create_df()"
   ]
  },
  {
   "cell_type": "code",
   "execution_count": 16,
   "metadata": {},
   "outputs": [
    {
     "data": {
      "text/html": [
       "<div>\n",
       "<style scoped>\n",
       "    .dataframe tbody tr th:only-of-type {\n",
       "        vertical-align: middle;\n",
       "    }\n",
       "\n",
       "    .dataframe tbody tr th {\n",
       "        vertical-align: top;\n",
       "    }\n",
       "\n",
       "    .dataframe thead th {\n",
       "        text-align: right;\n",
       "    }\n",
       "</style>\n",
       "<table border=\"1\" class=\"dataframe\">\n",
       "  <thead>\n",
       "    <tr style=\"text-align: right;\">\n",
       "      <th></th>\n",
       "      <th>0</th>\n",
       "      <th>1</th>\n",
       "      <th>2</th>\n",
       "      <th>3</th>\n",
       "      <th>4</th>\n",
       "      <th>5</th>\n",
       "      <th>6</th>\n",
       "      <th>7</th>\n",
       "      <th>8</th>\n",
       "      <th>9</th>\n",
       "      <th>...</th>\n",
       "      <th>43</th>\n",
       "      <th>44</th>\n",
       "      <th>45</th>\n",
       "      <th>46</th>\n",
       "      <th>47</th>\n",
       "      <th>48</th>\n",
       "      <th>49</th>\n",
       "      <th>50</th>\n",
       "      <th>51</th>\n",
       "      <th>52</th>\n",
       "    </tr>\n",
       "  </thead>\n",
       "  <tbody>\n",
       "    <tr>\n",
       "      <th>0</th>\n",
       "      <td>1.142341e-34</td>\n",
       "      <td>0.021134</td>\n",
       "      <td>0.042248</td>\n",
       "      <td>0.018720</td>\n",
       "      <td>0.153239</td>\n",
       "      <td>0.056538</td>\n",
       "      <td>0.012819</td>\n",
       "      <td>0.039911</td>\n",
       "      <td>0.021316</td>\n",
       "      <td>0.004667</td>\n",
       "      <td>...</td>\n",
       "      <td>0.000299</td>\n",
       "      <td>0.000278</td>\n",
       "      <td>0.000262</td>\n",
       "      <td>0.000249</td>\n",
       "      <td>0.000239</td>\n",
       "      <td>0.000231</td>\n",
       "      <td>0.000225</td>\n",
       "      <td>0.000222</td>\n",
       "      <td>0.000220</td>\n",
       "      <td>101</td>\n",
       "    </tr>\n",
       "    <tr>\n",
       "      <th>1</th>\n",
       "      <td>1.510533e-35</td>\n",
       "      <td>0.511206</td>\n",
       "      <td>0.135747</td>\n",
       "      <td>0.214426</td>\n",
       "      <td>0.057022</td>\n",
       "      <td>0.097690</td>\n",
       "      <td>0.025796</td>\n",
       "      <td>0.201940</td>\n",
       "      <td>0.029280</td>\n",
       "      <td>0.002306</td>\n",
       "      <td>...</td>\n",
       "      <td>0.000420</td>\n",
       "      <td>0.000393</td>\n",
       "      <td>0.000372</td>\n",
       "      <td>0.000354</td>\n",
       "      <td>0.000341</td>\n",
       "      <td>0.000330</td>\n",
       "      <td>0.000323</td>\n",
       "      <td>0.000318</td>\n",
       "      <td>0.000316</td>\n",
       "      <td>101</td>\n",
       "    </tr>\n",
       "    <tr>\n",
       "      <th>2</th>\n",
       "      <td>0.000000e+00</td>\n",
       "      <td>0.341286</td>\n",
       "      <td>0.280890</td>\n",
       "      <td>0.224551</td>\n",
       "      <td>0.365130</td>\n",
       "      <td>0.134873</td>\n",
       "      <td>0.055329</td>\n",
       "      <td>0.002446</td>\n",
       "      <td>0.003636</td>\n",
       "      <td>0.001134</td>\n",
       "      <td>...</td>\n",
       "      <td>0.000331</td>\n",
       "      <td>0.000284</td>\n",
       "      <td>0.000249</td>\n",
       "      <td>0.000224</td>\n",
       "      <td>0.000205</td>\n",
       "      <td>0.000191</td>\n",
       "      <td>0.000182</td>\n",
       "      <td>0.000176</td>\n",
       "      <td>0.000173</td>\n",
       "      <td>101</td>\n",
       "    </tr>\n",
       "    <tr>\n",
       "      <th>3</th>\n",
       "      <td>3.776333e-36</td>\n",
       "      <td>0.096983</td>\n",
       "      <td>0.009131</td>\n",
       "      <td>0.041878</td>\n",
       "      <td>0.025238</td>\n",
       "      <td>0.087390</td>\n",
       "      <td>0.004583</td>\n",
       "      <td>0.082856</td>\n",
       "      <td>0.038574</td>\n",
       "      <td>0.007825</td>\n",
       "      <td>...</td>\n",
       "      <td>0.000138</td>\n",
       "      <td>0.000126</td>\n",
       "      <td>0.000117</td>\n",
       "      <td>0.000110</td>\n",
       "      <td>0.000105</td>\n",
       "      <td>0.000101</td>\n",
       "      <td>0.000098</td>\n",
       "      <td>0.000096</td>\n",
       "      <td>0.000095</td>\n",
       "      <td>101</td>\n",
       "    </tr>\n",
       "    <tr>\n",
       "      <th>4</th>\n",
       "      <td>1.720592e-34</td>\n",
       "      <td>0.095673</td>\n",
       "      <td>0.527565</td>\n",
       "      <td>0.010894</td>\n",
       "      <td>0.113393</td>\n",
       "      <td>0.058851</td>\n",
       "      <td>0.180729</td>\n",
       "      <td>0.052457</td>\n",
       "      <td>0.013758</td>\n",
       "      <td>0.000690</td>\n",
       "      <td>...</td>\n",
       "      <td>0.000109</td>\n",
       "      <td>0.000096</td>\n",
       "      <td>0.000086</td>\n",
       "      <td>0.000078</td>\n",
       "      <td>0.000073</td>\n",
       "      <td>0.000069</td>\n",
       "      <td>0.000066</td>\n",
       "      <td>0.000064</td>\n",
       "      <td>0.000064</td>\n",
       "      <td>101</td>\n",
       "    </tr>\n",
       "  </tbody>\n",
       "</table>\n",
       "<p>5 rows × 53 columns</p>\n",
       "</div>"
      ],
      "text/plain": [
       "             0         1         2         3         4         5         6   \\\n",
       "0  1.142341e-34  0.021134  0.042248  0.018720  0.153239  0.056538  0.012819   \n",
       "1  1.510533e-35  0.511206  0.135747  0.214426  0.057022  0.097690  0.025796   \n",
       "2  0.000000e+00  0.341286  0.280890  0.224551  0.365130  0.134873  0.055329   \n",
       "3  3.776333e-36  0.096983  0.009131  0.041878  0.025238  0.087390  0.004583   \n",
       "4  1.720592e-34  0.095673  0.527565  0.010894  0.113393  0.058851  0.180729   \n",
       "\n",
       "         7         8         9   ...        43        44        45        46  \\\n",
       "0  0.039911  0.021316  0.004667  ...  0.000299  0.000278  0.000262  0.000249   \n",
       "1  0.201940  0.029280  0.002306  ...  0.000420  0.000393  0.000372  0.000354   \n",
       "2  0.002446  0.003636  0.001134  ...  0.000331  0.000284  0.000249  0.000224   \n",
       "3  0.082856  0.038574  0.007825  ...  0.000138  0.000126  0.000117  0.000110   \n",
       "4  0.052457  0.013758  0.000690  ...  0.000109  0.000096  0.000086  0.000078   \n",
       "\n",
       "         47        48        49        50        51   52  \n",
       "0  0.000239  0.000231  0.000225  0.000222  0.000220  101  \n",
       "1  0.000341  0.000330  0.000323  0.000318  0.000316  101  \n",
       "2  0.000205  0.000191  0.000182  0.000176  0.000173  101  \n",
       "3  0.000105  0.000101  0.000098  0.000096  0.000095  101  \n",
       "4  0.000073  0.000069  0.000066  0.000064  0.000064  101  \n",
       "\n",
       "[5 rows x 53 columns]"
      ]
     },
     "execution_count": 16,
     "metadata": {},
     "output_type": "execute_result"
    }
   ],
   "source": [
    "signal_processing.df_psd.head()"
   ]
  },
  {
   "cell_type": "code",
   "execution_count": 17,
   "metadata": {},
   "outputs": [
    {
     "data": {
      "text/html": [
       "<div>\n",
       "<style scoped>\n",
       "    .dataframe tbody tr th:only-of-type {\n",
       "        vertical-align: middle;\n",
       "    }\n",
       "\n",
       "    .dataframe tbody tr th {\n",
       "        vertical-align: top;\n",
       "    }\n",
       "\n",
       "    .dataframe thead th {\n",
       "        text-align: right;\n",
       "    }\n",
       "</style>\n",
       "<table border=\"1\" class=\"dataframe\">\n",
       "  <thead>\n",
       "    <tr style=\"text-align: right;\">\n",
       "      <th></th>\n",
       "      <th>0</th>\n",
       "      <th>1</th>\n",
       "      <th>2</th>\n",
       "      <th>3</th>\n",
       "      <th>4</th>\n",
       "      <th>5</th>\n",
       "      <th>6</th>\n",
       "      <th>7</th>\n",
       "      <th>8</th>\n",
       "      <th>9</th>\n",
       "      <th>...</th>\n",
       "      <th>43</th>\n",
       "      <th>44</th>\n",
       "      <th>45</th>\n",
       "      <th>46</th>\n",
       "      <th>47</th>\n",
       "      <th>48</th>\n",
       "      <th>49</th>\n",
       "      <th>50</th>\n",
       "      <th>51</th>\n",
       "      <th>52</th>\n",
       "    </tr>\n",
       "  </thead>\n",
       "  <tbody>\n",
       "    <tr>\n",
       "      <th>0</th>\n",
       "      <td>1.142341e-34</td>\n",
       "      <td>0.021134</td>\n",
       "      <td>0.042248</td>\n",
       "      <td>0.018720</td>\n",
       "      <td>0.153239</td>\n",
       "      <td>0.056538</td>\n",
       "      <td>0.012819</td>\n",
       "      <td>0.039911</td>\n",
       "      <td>0.021316</td>\n",
       "      <td>0.004667</td>\n",
       "      <td>...</td>\n",
       "      <td>0.000299</td>\n",
       "      <td>0.000278</td>\n",
       "      <td>0.000262</td>\n",
       "      <td>0.000249</td>\n",
       "      <td>0.000239</td>\n",
       "      <td>0.000231</td>\n",
       "      <td>0.000225</td>\n",
       "      <td>0.000222</td>\n",
       "      <td>0.000220</td>\n",
       "      <td>101</td>\n",
       "    </tr>\n",
       "    <tr>\n",
       "      <th>1</th>\n",
       "      <td>1.510533e-35</td>\n",
       "      <td>0.511206</td>\n",
       "      <td>0.135747</td>\n",
       "      <td>0.214426</td>\n",
       "      <td>0.057022</td>\n",
       "      <td>0.097690</td>\n",
       "      <td>0.025796</td>\n",
       "      <td>0.201940</td>\n",
       "      <td>0.029280</td>\n",
       "      <td>0.002306</td>\n",
       "      <td>...</td>\n",
       "      <td>0.000420</td>\n",
       "      <td>0.000393</td>\n",
       "      <td>0.000372</td>\n",
       "      <td>0.000354</td>\n",
       "      <td>0.000341</td>\n",
       "      <td>0.000330</td>\n",
       "      <td>0.000323</td>\n",
       "      <td>0.000318</td>\n",
       "      <td>0.000316</td>\n",
       "      <td>101</td>\n",
       "    </tr>\n",
       "    <tr>\n",
       "      <th>2</th>\n",
       "      <td>0.000000e+00</td>\n",
       "      <td>0.341286</td>\n",
       "      <td>0.280890</td>\n",
       "      <td>0.224551</td>\n",
       "      <td>0.365130</td>\n",
       "      <td>0.134873</td>\n",
       "      <td>0.055329</td>\n",
       "      <td>0.002446</td>\n",
       "      <td>0.003636</td>\n",
       "      <td>0.001134</td>\n",
       "      <td>...</td>\n",
       "      <td>0.000331</td>\n",
       "      <td>0.000284</td>\n",
       "      <td>0.000249</td>\n",
       "      <td>0.000224</td>\n",
       "      <td>0.000205</td>\n",
       "      <td>0.000191</td>\n",
       "      <td>0.000182</td>\n",
       "      <td>0.000176</td>\n",
       "      <td>0.000173</td>\n",
       "      <td>101</td>\n",
       "    </tr>\n",
       "    <tr>\n",
       "      <th>3</th>\n",
       "      <td>3.776333e-36</td>\n",
       "      <td>0.096983</td>\n",
       "      <td>0.009131</td>\n",
       "      <td>0.041878</td>\n",
       "      <td>0.025238</td>\n",
       "      <td>0.087390</td>\n",
       "      <td>0.004583</td>\n",
       "      <td>0.082856</td>\n",
       "      <td>0.038574</td>\n",
       "      <td>0.007825</td>\n",
       "      <td>...</td>\n",
       "      <td>0.000138</td>\n",
       "      <td>0.000126</td>\n",
       "      <td>0.000117</td>\n",
       "      <td>0.000110</td>\n",
       "      <td>0.000105</td>\n",
       "      <td>0.000101</td>\n",
       "      <td>0.000098</td>\n",
       "      <td>0.000096</td>\n",
       "      <td>0.000095</td>\n",
       "      <td>101</td>\n",
       "    </tr>\n",
       "    <tr>\n",
       "      <th>4</th>\n",
       "      <td>1.720592e-34</td>\n",
       "      <td>0.095673</td>\n",
       "      <td>0.527565</td>\n",
       "      <td>0.010894</td>\n",
       "      <td>0.113393</td>\n",
       "      <td>0.058851</td>\n",
       "      <td>0.180729</td>\n",
       "      <td>0.052457</td>\n",
       "      <td>0.013758</td>\n",
       "      <td>0.000690</td>\n",
       "      <td>...</td>\n",
       "      <td>0.000109</td>\n",
       "      <td>0.000096</td>\n",
       "      <td>0.000086</td>\n",
       "      <td>0.000078</td>\n",
       "      <td>0.000073</td>\n",
       "      <td>0.000069</td>\n",
       "      <td>0.000066</td>\n",
       "      <td>0.000064</td>\n",
       "      <td>0.000064</td>\n",
       "      <td>101</td>\n",
       "    </tr>\n",
       "  </tbody>\n",
       "</table>\n",
       "<p>5 rows × 53 columns</p>\n",
       "</div>"
      ],
      "text/plain": [
       "             0         1         2         3         4         5         6   \\\n",
       "0  1.142341e-34  0.021134  0.042248  0.018720  0.153239  0.056538  0.012819   \n",
       "1  1.510533e-35  0.511206  0.135747  0.214426  0.057022  0.097690  0.025796   \n",
       "2  0.000000e+00  0.341286  0.280890  0.224551  0.365130  0.134873  0.055329   \n",
       "3  3.776333e-36  0.096983  0.009131  0.041878  0.025238  0.087390  0.004583   \n",
       "4  1.720592e-34  0.095673  0.527565  0.010894  0.113393  0.058851  0.180729   \n",
       "\n",
       "         7         8         9   ...        43        44        45        46  \\\n",
       "0  0.039911  0.021316  0.004667  ...  0.000299  0.000278  0.000262  0.000249   \n",
       "1  0.201940  0.029280  0.002306  ...  0.000420  0.000393  0.000372  0.000354   \n",
       "2  0.002446  0.003636  0.001134  ...  0.000331  0.000284  0.000249  0.000224   \n",
       "3  0.082856  0.038574  0.007825  ...  0.000138  0.000126  0.000117  0.000110   \n",
       "4  0.052457  0.013758  0.000690  ...  0.000109  0.000096  0.000086  0.000078   \n",
       "\n",
       "         47        48        49        50        51   52  \n",
       "0  0.000239  0.000231  0.000225  0.000222  0.000220  101  \n",
       "1  0.000341  0.000330  0.000323  0.000318  0.000316  101  \n",
       "2  0.000205  0.000191  0.000182  0.000176  0.000173  101  \n",
       "3  0.000105  0.000101  0.000098  0.000096  0.000095  101  \n",
       "4  0.000073  0.000069  0.000066  0.000064  0.000064  101  \n",
       "\n",
       "[5 rows x 53 columns]"
      ]
     },
     "execution_count": 17,
     "metadata": {},
     "output_type": "execute_result"
    }
   ],
   "source": [
    "signal_processing.df_psd[signal_processing.df_psd[52]==101].head()"
   ]
  },
  {
   "cell_type": "markdown",
   "metadata": {},
   "source": [
    "Entonces tenemos un array bidimensional donde cada row es un epoch de de .2 segundos, siendo la suma de sus canales que nos interesan, y nuestra ultima columna es la señal a la que pertenece"
   ]
  },
  {
   "cell_type": "markdown",
   "metadata": {},
   "source": [
    "### Clasificador"
   ]
  },
  {
   "cell_type": "markdown",
   "metadata": {},
   "source": [
    "Primero, vamos a adoptar un approach en donde no nos preocupamos por nuestras transiciones de estado.\n",
    "\n",
    "Lo que haremos será crear una cadena para cada tipo de código y después, para probarlo, vamos a obtener el Maximum Likelihood Estimate entre todos los modelos, y nos quedaremos con el de mayor valor"
   ]
  },
  {
   "cell_type": "code",
   "execution_count": 18,
   "metadata": {},
   "outputs": [],
   "source": [
    "codes = list(signal_processing.psd_matriz.keys())\n",
    "\n",
    "hmm_models = []\n",
    "df_psd = signal_processing.df_psd\n",
    "last_index = df_psd.shape[1]-1\n",
    "for code in codes:\n",
    "    current_df = df_psd[df_psd[last_index]==code]\n",
    "    current_X = current_df.iloc[:,:-1].values\n",
    "    clf = hmm.GaussianHMM(n_components=1,covariance_type='diag',n_iter=1000)\n",
    "    clf.fit(current_X)\n",
    "    hmm_models.append((clf, code))"
   ]
  },
  {
   "cell_type": "code",
   "execution_count": 19,
   "metadata": {},
   "outputs": [
    {
     "data": {
      "text/plain": [
       "[(GaussianHMM(n_iter=1000), 101),\n",
       " (GaussianHMM(n_iter=1000), 103),\n",
       " (GaussianHMM(n_iter=1000), 102)]"
      ]
     },
     "execution_count": 19,
     "metadata": {},
     "output_type": "execute_result"
    }
   ],
   "source": [
    "hmm_models"
   ]
  },
  {
   "cell_type": "markdown",
   "metadata": {},
   "source": [
    "Debido a que el propósito de este proyecto es para procesamiento de señales en tiempo real, vamos a hacer una simulación de lo que sería procesar en tiempo real estos datos.\n",
    "A continuación creo una clase específica para estos datos, en donde aplico el EMG y le aplico PSD únicamente, dado que todo lo que reciba será un epoch completo, entonces no necesito separar por tipos de señales o canales"
   ]
  },
  {
   "cell_type": "code",
   "execution_count": 20,
   "metadata": {},
   "outputs": [],
   "source": [
    "class SignalProcessingOnline:\n",
    "\n",
    "    def __init__(self, df, columnas):\n",
    "        self.df = df\n",
    "        self.columnas = columnas\n",
    "\n",
    "    def apply_emg_filter(self):\n",
    "        for columna in self.columnas:   \n",
    "            self.df[columna], _, _ = self.filter_emg(self.df[columna])\n",
    "\n",
    "    def filter_emg(self, emg, low_pass=10, sfreq = 256, high_band = 4, low_band = 40):\n",
    "        high_band = high_band/(sfreq/2)\n",
    "        low_band = low_band/(sfreq/2)\n",
    "        b1, a1 = sp.signal.butter(4, [high_band, low_band], btype='bandpass')\n",
    "        emg_filtered = sp.signal.filtfilt(b1,a1,emg)\n",
    "        emg_rectified = abs(emg_filtered)\n",
    "        low_pass = low_pass/(sfreq/2)\n",
    "        b2, a2 = sp.signal.butter(4, low_pass, btype='lowpass')\n",
    "        emg_envelope= sp.signal.filtfilt(b2, a2, emg_rectified)\n",
    "        return emg_filtered, emg_rectified, emg_envelope\n",
    "\n",
    "    def get_periodos(self, per_time = False):\n",
    "        lecture_codes = self.df['Lecture code'].values\n",
    "        times = self.df['Time'].values\n",
    "        periodos = []\n",
    "        size = len(times)\n",
    "        active_signal = False\n",
    "        current_period = []\n",
    "        for i in range(size):\n",
    "            code = int(lecture_codes[i])\n",
    "            time = int(times[i])\n",
    "            append = i if not per_time else times[i]\n",
    "\n",
    "            if code>=100 and code <=110:\n",
    "                active_signal = True\n",
    "\n",
    "            if active_signal and len(current_period)==0:\n",
    "                current_period.append(append) # time\n",
    "\n",
    "            if code >= 200 and active_signal:\n",
    "                active_signal = False\n",
    "                current_period.append(append) # time\n",
    "                periodos.append(tuple(current_period))\n",
    "                current_period = []\n",
    "        self.periodos = periodos\n",
    "        return self.periodos\n",
    "\n",
    "    def process_data(self):\n",
    "        new_epochs = []\n",
    "\n",
    "        for canal in self.columnas:\n",
    "            arr = self.df[canal].values.tolist()\n",
    "            freqs, psd = sp_signal.periodogram(arr, 256)\n",
    "            new_epochs.append(psd)\n",
    "\n",
    "        new_data = []\n",
    "        for epoch in new_epochs:\n",
    "            new_data.extend(epoch)\n",
    "\n",
    "        self.psd = [new_data]"
   ]
  },
  {
   "cell_type": "markdown",
   "metadata": {},
   "source": [
    "Para nuestro entrenamiento usamos todos los elementos del archivo\n",
    "'Izquierda - Derecha - Cerrado 1.txt'\n",
    "Pero para probar, usaremos otro dataset de los mismos movimientos de la mano\n",
    "'Izquierda - Derecha - Cerrado 2.txt'"
   ]
  },
  {
   "cell_type": "code",
   "execution_count": 21,
   "metadata": {},
   "outputs": [],
   "source": [
    "archivo = 'Izquierda - Derecha - Cerrado 2.txt'\n",
    "items_per_window = int(3840 * size_window/15)\n",
    "df = open_file(archivo)"
   ]
  },
  {
   "cell_type": "code",
   "execution_count": 22,
   "metadata": {},
   "outputs": [
    {
     "data": {
      "text/html": [
       "<div>\n",
       "<style scoped>\n",
       "    .dataframe tbody tr th:only-of-type {\n",
       "        vertical-align: middle;\n",
       "    }\n",
       "\n",
       "    .dataframe tbody tr th {\n",
       "        vertical-align: top;\n",
       "    }\n",
       "\n",
       "    .dataframe thead th {\n",
       "        text-align: right;\n",
       "    }\n",
       "</style>\n",
       "<table border=\"1\" class=\"dataframe\">\n",
       "  <thead>\n",
       "    <tr style=\"text-align: right;\">\n",
       "      <th></th>\n",
       "      <th>Time</th>\n",
       "      <th>C 1</th>\n",
       "      <th>C 3</th>\n",
       "      <th>Timestamp</th>\n",
       "      <th>Lecture code</th>\n",
       "    </tr>\n",
       "  </thead>\n",
       "  <tbody>\n",
       "    <tr>\n",
       "      <th>0</th>\n",
       "      <td>0.000000</td>\n",
       "      <td>-20.097601</td>\n",
       "      <td>-0.918098</td>\n",
       "      <td>1.600424e+12</td>\n",
       "      <td>0</td>\n",
       "    </tr>\n",
       "    <tr>\n",
       "      <th>1</th>\n",
       "      <td>0.003906</td>\n",
       "      <td>4.585283</td>\n",
       "      <td>-1.498884</td>\n",
       "      <td>1.600424e+12</td>\n",
       "      <td>0</td>\n",
       "    </tr>\n",
       "    <tr>\n",
       "      <th>2</th>\n",
       "      <td>0.007812</td>\n",
       "      <td>-0.588451</td>\n",
       "      <td>2.224693</td>\n",
       "      <td>1.600424e+12</td>\n",
       "      <td>0</td>\n",
       "    </tr>\n",
       "    <tr>\n",
       "      <th>3</th>\n",
       "      <td>0.011719</td>\n",
       "      <td>-14.485972</td>\n",
       "      <td>4.476172</td>\n",
       "      <td>1.600424e+12</td>\n",
       "      <td>0</td>\n",
       "    </tr>\n",
       "    <tr>\n",
       "      <th>4</th>\n",
       "      <td>0.015625</td>\n",
       "      <td>-6.249883</td>\n",
       "      <td>0.750648</td>\n",
       "      <td>1.600424e+12</td>\n",
       "      <td>0</td>\n",
       "    </tr>\n",
       "  </tbody>\n",
       "</table>\n",
       "</div>"
      ],
      "text/plain": [
       "       Time        C 1       C 3     Timestamp  Lecture code\n",
       "0  0.000000 -20.097601 -0.918098  1.600424e+12             0\n",
       "1  0.003906   4.585283 -1.498884  1.600424e+12             0\n",
       "2  0.007812  -0.588451  2.224693  1.600424e+12             0\n",
       "3  0.011719 -14.485972  4.476172  1.600424e+12             0\n",
       "4  0.015625  -6.249883  0.750648  1.600424e+12             0"
      ]
     },
     "execution_count": 22,
     "metadata": {},
     "output_type": "execute_result"
    }
   ],
   "source": [
    "df.head()"
   ]
  },
  {
   "cell_type": "markdown",
   "metadata": {},
   "source": [
    "Debido a como nuestra señal está formada... 101 0 0 0 200, he decidido que voy a llenar esos huecos de espacios con la señal a la que pertenecen, para tener 101 101 101 101 200 0 0.."
   ]
  },
  {
   "cell_type": "code",
   "execution_count": 23,
   "metadata": {},
   "outputs": [],
   "source": [
    "lecture_codes = df['Lecture code'].values\n",
    "new_lecture_codes = []\n",
    "expected = {101:0,102:0,103:0, 0:0}\n",
    "size = len(lecture_codes)\n",
    "active_signal = False\n",
    "last_signal = 0\n",
    "for i in range(size):\n",
    "    code = int(lecture_codes[i])\n",
    "\n",
    "    if code>=100 and code <=110:\n",
    "        expected[code]+=1\n",
    "        active_signal = True\n",
    "        last_signal = code\n",
    "\n",
    "    elif code >= 200 and active_signal:\n",
    "        active_signal = False\n",
    "        last_signal = 0\n",
    "    new_lecture_codes.append(last_signal)\n",
    "df['Lecture code'] = new_lecture_codes"
   ]
  },
  {
   "cell_type": "markdown",
   "metadata": {},
   "source": [
    "Vamos a probar nuestros modelos, obteniendo el score y quedándonos con el que tiene mayor score"
   ]
  },
  {
   "cell_type": "code",
   "execution_count": 24,
   "metadata": {},
   "outputs": [],
   "source": [
    "dic = {}\n",
    "vals = np.unique(df['Lecture code'].values)\n",
    "for val in vals:\n",
    "    dic[val] = {}\n",
    "    for rep_val in vals:\n",
    "        dic[val][rep_val] = 0\n",
    "\n",
    "current_items = 0\n",
    "initial = 0\n",
    "\n",
    "for i in range(df.shape[0]):\n",
    "    if current_items < items_per_window:\n",
    "        current_items +=1\n",
    "    else: #current element, ya es parte del nuevo\n",
    "        current_df = df.iloc[initial:i, :-1]\n",
    "        current_actual = df.iloc[initial:initial+1, -1].to_numpy()[0]\n",
    "        signal_processing = SignalProcessingOnline(current_df, canales)\n",
    "        signal_processing.apply_emg_filter()\n",
    "        signal_processing.process_data()\n",
    "        max_score = -9999999999999999999\n",
    "        output_label = None\n",
    "        for item in hmm_models:\n",
    "            hmm_model, label = item\n",
    "            score = hmm_model.score(signal_processing.psd)\n",
    "            if score > max_score:\n",
    "                max_score = score\n",
    "                output_label = label\n",
    "        predicted = output_label\n",
    "        dic[current_actual][predicted]+=1\n",
    "        current_items = 0\n",
    "        initial=i\n",
    "        current_items+=1"
   ]
  },
  {
   "cell_type": "code",
   "execution_count": 25,
   "metadata": {},
   "outputs": [
    {
     "data": {
      "text/html": [
       "<div>\n",
       "<style scoped>\n",
       "    .dataframe tbody tr th:only-of-type {\n",
       "        vertical-align: middle;\n",
       "    }\n",
       "\n",
       "    .dataframe tbody tr th {\n",
       "        vertical-align: top;\n",
       "    }\n",
       "\n",
       "    .dataframe thead th {\n",
       "        text-align: right;\n",
       "    }\n",
       "</style>\n",
       "<table border=\"1\" class=\"dataframe\">\n",
       "  <thead>\n",
       "    <tr style=\"text-align: right;\">\n",
       "      <th></th>\n",
       "      <th>0</th>\n",
       "      <th>101</th>\n",
       "      <th>102</th>\n",
       "      <th>103</th>\n",
       "    </tr>\n",
       "  </thead>\n",
       "  <tbody>\n",
       "    <tr>\n",
       "      <th>0</th>\n",
       "      <td>0</td>\n",
       "      <td>554</td>\n",
       "      <td>217</td>\n",
       "      <td>159</td>\n",
       "    </tr>\n",
       "    <tr>\n",
       "      <th>101</th>\n",
       "      <td>0</td>\n",
       "      <td>439</td>\n",
       "      <td>7</td>\n",
       "      <td>4</td>\n",
       "    </tr>\n",
       "    <tr>\n",
       "      <th>102</th>\n",
       "      <td>0</td>\n",
       "      <td>0</td>\n",
       "      <td>451</td>\n",
       "      <td>0</td>\n",
       "    </tr>\n",
       "    <tr>\n",
       "      <th>103</th>\n",
       "      <td>0</td>\n",
       "      <td>0</td>\n",
       "      <td>22</td>\n",
       "      <td>432</td>\n",
       "    </tr>\n",
       "  </tbody>\n",
       "</table>\n",
       "</div>"
      ],
      "text/plain": [
       "     0    101  102  103\n",
       "0      0  554  217  159\n",
       "101    0  439    7    4\n",
       "102    0    0  451    0\n",
       "103    0    0   22  432"
      ]
     },
     "execution_count": 25,
     "metadata": {},
     "output_type": "execute_result"
    }
   ],
   "source": [
    "rows = []\n",
    "for key,val in dic.items():\n",
    "    row = []\n",
    "    for k,v in val.items():\n",
    "        row.append(v)\n",
    "    rows.append(row)\n",
    "df_results = pd.DataFrame(rows, index=vals, columns=vals)\n",
    "df_results"
   ]
  },
  {
   "cell_type": "markdown",
   "metadata": {},
   "source": [
    "Los 0s no nos importan, porque el propósito solo es entender como funcionan las señales activas, en el cual, tuvimos MUY buenos resultados\n",
    "\n",
    "Y esto con ventanas de .2 segundos, \n",
    "\n",
    "Entonces podemos concluir que el usar cadenas de markov para clasificar PSDs da muy buenos resultados! \n",
    ".2 segundos de una señal para tener tal eficacia es muy buen tiempo! muy bueno :)\n",
    "\n",
    "Este trabajo fue hecho en conjunto con mi clase de estancias de investigación, el trabajo que hice para el preprocesado de datos y la manera en la que clasificamos será usada por estudiantes de doctorado del Doctor Omar Mendoza del laboratorio de Neurociencias del Tec de Monterrey Campus Gdl, omendoza83@tec.mx, para crear una máquina capaz de ayudar a personas con ciertas enfermedades de movilidad en diferentes hospitales de México.\n",
    "\n",
    "En este trabajo se clasificó exitosamente las señales de las cuales nos interesa saber, pero también existen los estados nulos, los 0, como podemos ver, será trabajo de estudiantes que tienen especialidad en algoritmos de control ver como manejar este estado nulo"
   ]
  },
  {
   "cell_type": "markdown",
   "metadata": {},
   "source": [
    "### Extra: crear cadena de markov de 4 estados y entender verdaderamente las transiciones, no solo obtener el log likehood del modelo"
   ]
  },
  {
   "cell_type": "code",
   "execution_count": 186,
   "metadata": {},
   "outputs": [
    {
     "data": {
      "text/html": [
       "<div>\n",
       "<style scoped>\n",
       "    .dataframe tbody tr th:only-of-type {\n",
       "        vertical-align: middle;\n",
       "    }\n",
       "\n",
       "    .dataframe tbody tr th {\n",
       "        vertical-align: top;\n",
       "    }\n",
       "\n",
       "    .dataframe thead th {\n",
       "        text-align: right;\n",
       "    }\n",
       "</style>\n",
       "<table border=\"1\" class=\"dataframe\">\n",
       "  <thead>\n",
       "    <tr style=\"text-align: right;\">\n",
       "      <th></th>\n",
       "      <th>Time</th>\n",
       "      <th>C 1</th>\n",
       "      <th>C 3</th>\n",
       "      <th>Timestamp</th>\n",
       "      <th>Lecture code</th>\n",
       "    </tr>\n",
       "  </thead>\n",
       "  <tbody>\n",
       "    <tr>\n",
       "      <th>0</th>\n",
       "      <td>0.000000</td>\n",
       "      <td>-17.213388</td>\n",
       "      <td>-3.959528</td>\n",
       "      <td>1.600423e+12</td>\n",
       "      <td>0</td>\n",
       "    </tr>\n",
       "    <tr>\n",
       "      <th>1</th>\n",
       "      <td>0.003906</td>\n",
       "      <td>-1.411259</td>\n",
       "      <td>-5.499511</td>\n",
       "      <td>1.600423e+12</td>\n",
       "      <td>0</td>\n",
       "    </tr>\n",
       "    <tr>\n",
       "      <th>2</th>\n",
       "      <td>0.007812</td>\n",
       "      <td>43.181385</td>\n",
       "      <td>-0.561774</td>\n",
       "      <td>1.600423e+12</td>\n",
       "      <td>0</td>\n",
       "    </tr>\n",
       "    <tr>\n",
       "      <th>3</th>\n",
       "      <td>0.011719</td>\n",
       "      <td>57.539547</td>\n",
       "      <td>3.926640</td>\n",
       "      <td>1.600423e+12</td>\n",
       "      <td>0</td>\n",
       "    </tr>\n",
       "    <tr>\n",
       "      <th>4</th>\n",
       "      <td>0.015625</td>\n",
       "      <td>3.823523</td>\n",
       "      <td>1.838967</td>\n",
       "      <td>1.600423e+12</td>\n",
       "      <td>0</td>\n",
       "    </tr>\n",
       "  </tbody>\n",
       "</table>\n",
       "</div>"
      ],
      "text/plain": [
       "       Time        C 1       C 3     Timestamp  Lecture code\n",
       "0  0.000000 -17.213388 -3.959528  1.600423e+12             0\n",
       "1  0.003906  -1.411259 -5.499511  1.600423e+12             0\n",
       "2  0.007812  43.181385 -0.561774  1.600423e+12             0\n",
       "3  0.011719  57.539547  3.926640  1.600423e+12             0\n",
       "4  0.015625   3.823523  1.838967  1.600423e+12             0"
      ]
     },
     "execution_count": 186,
     "metadata": {},
     "output_type": "execute_result"
    }
   ],
   "source": [
    "size_window = .2\n",
    "canales = ['C 1', 'C 3']\n",
    "archivo = 'Izquierda - Derecha - Cerrado 1.txt'\n",
    "df = open_file(archivo)\n",
    "df.head()"
   ]
  },
  {
   "cell_type": "markdown",
   "metadata": {},
   "source": [
    "Llenar los espacios vacios, es decir, 101 0 0 200, 101 101 101 200 sería nuestro resultado esperado"
   ]
  },
  {
   "cell_type": "code",
   "execution_count": 187,
   "metadata": {},
   "outputs": [],
   "source": [
    "lecture_codes = df['Lecture code'].values\n",
    "new_lecture_codes = []\n",
    "expected = {101:0,102:0,103:0, 0:0}\n",
    "size = len(lecture_codes)\n",
    "active_signal = False\n",
    "last_signal = 0\n",
    "for i in range(size):\n",
    "    code = int(lecture_codes[i])\n",
    "\n",
    "    if code>=100 and code <=110:\n",
    "        expected[code]+=1\n",
    "        active_signal = True\n",
    "        last_signal = code\n",
    "\n",
    "    elif code >= 200 and active_signal:\n",
    "        active_signal = False\n",
    "        last_signal = 0\n",
    "    new_lecture_codes.append(last_signal)\n",
    "df['Lecture code'] = new_lecture_codes"
   ]
  },
  {
   "cell_type": "code",
   "execution_count": 189,
   "metadata": {},
   "outputs": [],
   "source": [
    "df = df[df['Lecture code']!=0]"
   ]
  },
  {
   "cell_type": "markdown",
   "metadata": {},
   "source": [
    "Ahora voy a crear una matriz de probabilidades de transicion"
   ]
  },
  {
   "cell_type": "code",
   "execution_count": 198,
   "metadata": {},
   "outputs": [
    {
     "data": {
      "text/plain": [
       "array([[2.3053e+04, 1.0000e+00, 2.0000e+00],\n",
       "       [1.0000e+00, 2.3044e+04, 3.0000e+00],\n",
       "       [1.0000e+00, 3.0000e+00, 2.3035e+04]])"
      ]
     },
     "execution_count": 198,
     "metadata": {},
     "output_type": "execute_result"
    }
   ],
   "source": [
    "lecture_codes = df['Lecture code'].values\n",
    "codigos = np.unique(lecture_codes)\n",
    "posiciones = {}\n",
    "for i in range(len(codigos)):\n",
    "    posiciones[codigos[i]] = i\n",
    "transiciones = np.zeros((len(codigos), len(codigos)))\n",
    "\n",
    "for i in range(0, len(lecture_codes)-1):\n",
    "    current_code = lecture_codes[i]\n",
    "    next_code = lecture_codes[i+1]\n",
    "\n",
    "    current_pos = posiciones[current_code]\n",
    "    next_pos = posiciones[next_code]\n",
    "    transiciones[current_pos][next_pos]+=1\n",
    "transiciones.round(decimals=2)"
   ]
  },
  {
   "cell_type": "code",
   "execution_count": 199,
   "metadata": {},
   "outputs": [
    {
     "data": {
      "text/plain": [
       "(23056.0, 23048.0, 23039.0)"
      ]
     },
     "execution_count": 199,
     "metadata": {},
     "output_type": "execute_result"
    }
   ],
   "source": [
    "sum(transiciones[0]), sum(transiciones[1]), sum(transiciones[2])"
   ]
  },
  {
   "cell_type": "markdown",
   "metadata": {},
   "source": [
    "Vamos a normalizar"
   ]
  },
  {
   "cell_type": "code",
   "execution_count": 200,
   "metadata": {},
   "outputs": [],
   "source": [
    "for i in range(len(transiciones)):\n",
    "    transiciones[i] = normalize([transiciones[i]])"
   ]
  },
  {
   "cell_type": "code",
   "execution_count": 201,
   "metadata": {},
   "outputs": [
    {
     "data": {
      "text/plain": [
       "(1.000130130201715, 1.000173571558155, 1.0001736393705802)"
      ]
     },
     "execution_count": 201,
     "metadata": {},
     "output_type": "execute_result"
    }
   ],
   "source": [
    "sum(transiciones[0]), sum(transiciones[1]), sum(transiciones[2])"
   ]
  },
  {
   "cell_type": "code",
   "execution_count": 202,
   "metadata": {},
   "outputs": [
    {
     "data": {
      "text/plain": [
       "array([[9.99999995e-01, 4.33783020e-05, 8.67566039e-05],\n",
       "       [4.33952435e-05, 9.99999991e-01, 1.30185730e-04],\n",
       "       [4.34121984e-05, 1.30236595e-04, 9.99999991e-01]])"
      ]
     },
     "execution_count": 202,
     "metadata": {},
     "output_type": "execute_result"
    }
   ],
   "source": [
    "transiciones"
   ]
  },
  {
   "cell_type": "code",
   "execution_count": 203,
   "metadata": {},
   "outputs": [],
   "source": [
    "for i in range(len(transiciones)):\n",
    "    row_sum = sum(transiciones[i])\n",
    "    complemento = abs(1-row_sum)\n",
    "    transiciones[i][i] = transiciones[i][i]-complemento    "
   ]
  },
  {
   "cell_type": "code",
   "execution_count": 204,
   "metadata": {},
   "outputs": [
    {
     "data": {
      "text/plain": [
       "(1.0, 0.9999999999999998, 1.0)"
      ]
     },
     "execution_count": 204,
     "metadata": {},
     "output_type": "execute_result"
    }
   ],
   "source": [
    "sum(transiciones[0]), sum(transiciones[1]), sum(transiciones[2])"
   ]
  },
  {
   "cell_type": "code",
   "execution_count": 205,
   "metadata": {},
   "outputs": [],
   "source": [
    "transiciones[1][1] += (1-0.9999999999999998)"
   ]
  },
  {
   "cell_type": "code",
   "execution_count": 206,
   "metadata": {},
   "outputs": [
    {
     "data": {
      "text/plain": [
       "(1.0, 1.0, 1.0)"
      ]
     },
     "execution_count": 206,
     "metadata": {},
     "output_type": "execute_result"
    }
   ],
   "source": [
    "sum(transiciones[0]), sum(transiciones[1]), sum(transiciones[2])"
   ]
  },
  {
   "cell_type": "code",
   "execution_count": 152,
   "metadata": {},
   "outputs": [],
   "source": [
    "# Solo hacer en el caso de 4\n",
    "transiciones_normalized = []\n",
    "for i in range(len(transiciones)):\n",
    "    row = transiciones[i]\n",
    "    current_sum = 0\n",
    "    for j in range(len(row)):\n",
    "        if j==i:\n",
    "            continue\n",
    "        current_sum+=row[j]\n",
    "    row[i] = 1 - current_sum\n",
    "    transiciones_normalized.append(row)"
   ]
  },
  {
   "cell_type": "code",
   "execution_count": 155,
   "metadata": {},
   "outputs": [
    {
     "data": {
      "text/plain": [
       "(1.0, 1.0, 1.0, 1.0)"
      ]
     },
     "execution_count": 155,
     "metadata": {},
     "output_type": "execute_result"
    }
   ],
   "source": [
    "sum(transiciones_normalized[0]), sum(transiciones_normalized[1]), sum(transiciones_normalized[2]), sum(transiciones_normalized[3])"
   ]
  },
  {
   "cell_type": "markdown",
   "metadata": {},
   "source": [
    "Ahora tenemos nuestra matriz de transiciones, ahora hay que obtener nuestro estado inicial.\n",
    "\n",
    "\n",
    "Esto lo haremos dando un estado inicial, digamos 0, e iteremos 1000 veces para ver cual seria la prob de encontrarnos en cada estado"
   ]
  },
  {
   "cell_type": "code",
   "execution_count": 207,
   "metadata": {},
   "outputs": [],
   "source": [
    "def calcular_prob(vector, matriz, veces = 1): # de estar en x estado despues de y veces\n",
    "    for i in range(veces):\n",
    "        vector = vector.dot(matriz)\n",
    "    return vector"
   ]
  },
  {
   "cell_type": "code",
   "execution_count": 216,
   "metadata": {},
   "outputs": [],
   "source": [
    "vector_inicial = np.array([ 1, 0 , 0]) # Digamos 100% de empezar con señal 0"
   ]
  },
  {
   "cell_type": "code",
   "execution_count": 217,
   "metadata": {},
   "outputs": [
    {
     "data": {
      "text/plain": [
       "(array([0.88052167, 0.04223943, 0.0772389 ]), 0.9999999999999554)"
      ]
     },
     "execution_count": 217,
     "metadata": {},
     "output_type": "execute_result"
    }
   ],
   "source": [
    "vector_inicial = calcular_prob(vector_inicial, transiciones, 1000)\n",
    "vector_inicial, sum(vector_inicial)"
   ]
  },
  {
   "cell_type": "code",
   "execution_count": 218,
   "metadata": {},
   "outputs": [],
   "source": [
    "vector_inicial[0]+= (1-0.9999999999999554)"
   ]
  },
  {
   "cell_type": "code",
   "execution_count": 219,
   "metadata": {},
   "outputs": [
    {
     "data": {
      "text/plain": [
       "1.0"
      ]
     },
     "execution_count": 219,
     "metadata": {},
     "output_type": "execute_result"
    }
   ],
   "source": [
    "sum(prob)"
   ]
  },
  {
   "cell_type": "code",
   "execution_count": 164,
   "metadata": {},
   "outputs": [
    {
     "data": {
      "text/plain": [
       "1.0"
      ]
     },
     "execution_count": 164,
     "metadata": {},
     "output_type": "execute_result"
    }
   ],
   "source": [
    "# vector_inicial = [0.964, 0.012, 0.012, 0.012]\n",
    "# sum(vector_inicial)"
   ]
  },
  {
   "cell_type": "markdown",
   "metadata": {},
   "source": [
    "Entonces digamos que nos quedaremos con [1, 0, 0, 0]"
   ]
  },
  {
   "cell_type": "markdown",
   "metadata": {},
   "source": [
    "Entonces ahora queremos obtener nuestra media de cada feature por cada señal"
   ]
  },
  {
   "cell_type": "markdown",
   "metadata": {},
   "source": [
    "Hago el procesado de mi señal para tener los features que quiero"
   ]
  },
  {
   "cell_type": "code",
   "execution_count": 220,
   "metadata": {},
   "outputs": [],
   "source": [
    "size_window = .2\n",
    "canales = ['C 1', 'C 3']\n",
    "archivo = 'Izquierda - Derecha - Cerrado 1.txt'\n",
    "df = open_file(archivo)\n",
    "signal_processing = SignalProcessing(df, canales)\n",
    "signal_processing.apply_emg_filter()\n",
    "signal_processing.create_matriz(size_window)\n",
    "signal_processing.generate_psd_matrix()\n",
    "signal_processing.create_df()\n",
    "df_psd = signal_processing.df_psd\n",
    "# X = df_psd.iloc[:,:-1].values\n",
    "# y = [element[0] for element in df_psd.iloc[:,-1:].values]"
   ]
  },
  {
   "cell_type": "code",
   "execution_count": 221,
   "metadata": {},
   "outputs": [
    {
     "data": {
      "text/html": [
       "<div>\n",
       "<style scoped>\n",
       "    .dataframe tbody tr th:only-of-type {\n",
       "        vertical-align: middle;\n",
       "    }\n",
       "\n",
       "    .dataframe tbody tr th {\n",
       "        vertical-align: top;\n",
       "    }\n",
       "\n",
       "    .dataframe thead th {\n",
       "        text-align: right;\n",
       "    }\n",
       "</style>\n",
       "<table border=\"1\" class=\"dataframe\">\n",
       "  <thead>\n",
       "    <tr style=\"text-align: right;\">\n",
       "      <th></th>\n",
       "      <th>0</th>\n",
       "      <th>1</th>\n",
       "      <th>2</th>\n",
       "      <th>3</th>\n",
       "      <th>4</th>\n",
       "      <th>5</th>\n",
       "      <th>6</th>\n",
       "      <th>7</th>\n",
       "      <th>8</th>\n",
       "      <th>9</th>\n",
       "      <th>...</th>\n",
       "      <th>43</th>\n",
       "      <th>44</th>\n",
       "      <th>45</th>\n",
       "      <th>46</th>\n",
       "      <th>47</th>\n",
       "      <th>48</th>\n",
       "      <th>49</th>\n",
       "      <th>50</th>\n",
       "      <th>51</th>\n",
       "      <th>52</th>\n",
       "    </tr>\n",
       "  </thead>\n",
       "  <tbody>\n",
       "    <tr>\n",
       "      <th>0</th>\n",
       "      <td>1.142341e-34</td>\n",
       "      <td>0.021134</td>\n",
       "      <td>0.042248</td>\n",
       "      <td>0.018720</td>\n",
       "      <td>0.153239</td>\n",
       "      <td>0.056538</td>\n",
       "      <td>0.012819</td>\n",
       "      <td>0.039911</td>\n",
       "      <td>0.021316</td>\n",
       "      <td>0.004667</td>\n",
       "      <td>...</td>\n",
       "      <td>0.000299</td>\n",
       "      <td>0.000278</td>\n",
       "      <td>0.000262</td>\n",
       "      <td>0.000249</td>\n",
       "      <td>0.000239</td>\n",
       "      <td>0.000231</td>\n",
       "      <td>0.000225</td>\n",
       "      <td>0.000222</td>\n",
       "      <td>0.000220</td>\n",
       "      <td>101</td>\n",
       "    </tr>\n",
       "    <tr>\n",
       "      <th>1</th>\n",
       "      <td>1.510533e-35</td>\n",
       "      <td>0.511206</td>\n",
       "      <td>0.135747</td>\n",
       "      <td>0.214426</td>\n",
       "      <td>0.057022</td>\n",
       "      <td>0.097690</td>\n",
       "      <td>0.025796</td>\n",
       "      <td>0.201940</td>\n",
       "      <td>0.029280</td>\n",
       "      <td>0.002306</td>\n",
       "      <td>...</td>\n",
       "      <td>0.000420</td>\n",
       "      <td>0.000393</td>\n",
       "      <td>0.000372</td>\n",
       "      <td>0.000354</td>\n",
       "      <td>0.000341</td>\n",
       "      <td>0.000330</td>\n",
       "      <td>0.000323</td>\n",
       "      <td>0.000318</td>\n",
       "      <td>0.000316</td>\n",
       "      <td>101</td>\n",
       "    </tr>\n",
       "    <tr>\n",
       "      <th>2</th>\n",
       "      <td>0.000000e+00</td>\n",
       "      <td>0.341286</td>\n",
       "      <td>0.280890</td>\n",
       "      <td>0.224551</td>\n",
       "      <td>0.365130</td>\n",
       "      <td>0.134873</td>\n",
       "      <td>0.055329</td>\n",
       "      <td>0.002446</td>\n",
       "      <td>0.003636</td>\n",
       "      <td>0.001134</td>\n",
       "      <td>...</td>\n",
       "      <td>0.000331</td>\n",
       "      <td>0.000284</td>\n",
       "      <td>0.000249</td>\n",
       "      <td>0.000224</td>\n",
       "      <td>0.000205</td>\n",
       "      <td>0.000191</td>\n",
       "      <td>0.000182</td>\n",
       "      <td>0.000176</td>\n",
       "      <td>0.000173</td>\n",
       "      <td>101</td>\n",
       "    </tr>\n",
       "    <tr>\n",
       "      <th>3</th>\n",
       "      <td>3.776333e-36</td>\n",
       "      <td>0.096983</td>\n",
       "      <td>0.009131</td>\n",
       "      <td>0.041878</td>\n",
       "      <td>0.025238</td>\n",
       "      <td>0.087390</td>\n",
       "      <td>0.004583</td>\n",
       "      <td>0.082856</td>\n",
       "      <td>0.038574</td>\n",
       "      <td>0.007825</td>\n",
       "      <td>...</td>\n",
       "      <td>0.000138</td>\n",
       "      <td>0.000126</td>\n",
       "      <td>0.000117</td>\n",
       "      <td>0.000110</td>\n",
       "      <td>0.000105</td>\n",
       "      <td>0.000101</td>\n",
       "      <td>0.000098</td>\n",
       "      <td>0.000096</td>\n",
       "      <td>0.000095</td>\n",
       "      <td>101</td>\n",
       "    </tr>\n",
       "    <tr>\n",
       "      <th>4</th>\n",
       "      <td>1.720592e-34</td>\n",
       "      <td>0.095673</td>\n",
       "      <td>0.527565</td>\n",
       "      <td>0.010894</td>\n",
       "      <td>0.113393</td>\n",
       "      <td>0.058851</td>\n",
       "      <td>0.180729</td>\n",
       "      <td>0.052457</td>\n",
       "      <td>0.013758</td>\n",
       "      <td>0.000690</td>\n",
       "      <td>...</td>\n",
       "      <td>0.000109</td>\n",
       "      <td>0.000096</td>\n",
       "      <td>0.000086</td>\n",
       "      <td>0.000078</td>\n",
       "      <td>0.000073</td>\n",
       "      <td>0.000069</td>\n",
       "      <td>0.000066</td>\n",
       "      <td>0.000064</td>\n",
       "      <td>0.000064</td>\n",
       "      <td>101</td>\n",
       "    </tr>\n",
       "    <tr>\n",
       "      <th>...</th>\n",
       "      <td>...</td>\n",
       "      <td>...</td>\n",
       "      <td>...</td>\n",
       "      <td>...</td>\n",
       "      <td>...</td>\n",
       "      <td>...</td>\n",
       "      <td>...</td>\n",
       "      <td>...</td>\n",
       "      <td>...</td>\n",
       "      <td>...</td>\n",
       "      <td>...</td>\n",
       "      <td>...</td>\n",
       "      <td>...</td>\n",
       "      <td>...</td>\n",
       "      <td>...</td>\n",
       "      <td>...</td>\n",
       "      <td>...</td>\n",
       "      <td>...</td>\n",
       "      <td>...</td>\n",
       "      <td>...</td>\n",
       "      <td>...</td>\n",
       "    </tr>\n",
       "    <tr>\n",
       "      <th>1345</th>\n",
       "      <td>3.866965e-33</td>\n",
       "      <td>0.384115</td>\n",
       "      <td>0.482106</td>\n",
       "      <td>1.107081</td>\n",
       "      <td>0.009023</td>\n",
       "      <td>1.455718</td>\n",
       "      <td>4.842425</td>\n",
       "      <td>29.461899</td>\n",
       "      <td>0.059302</td>\n",
       "      <td>0.334676</td>\n",
       "      <td>...</td>\n",
       "      <td>0.002046</td>\n",
       "      <td>0.001865</td>\n",
       "      <td>0.001726</td>\n",
       "      <td>0.001620</td>\n",
       "      <td>0.001538</td>\n",
       "      <td>0.001478</td>\n",
       "      <td>0.001435</td>\n",
       "      <td>0.001407</td>\n",
       "      <td>0.001393</td>\n",
       "      <td>102</td>\n",
       "    </tr>\n",
       "    <tr>\n",
       "      <th>1346</th>\n",
       "      <td>6.042133e-35</td>\n",
       "      <td>0.012462</td>\n",
       "      <td>0.825997</td>\n",
       "      <td>0.209650</td>\n",
       "      <td>1.909890</td>\n",
       "      <td>3.741720</td>\n",
       "      <td>8.596658</td>\n",
       "      <td>1.387400</td>\n",
       "      <td>0.567016</td>\n",
       "      <td>0.368824</td>\n",
       "      <td>...</td>\n",
       "      <td>0.002172</td>\n",
       "      <td>0.001976</td>\n",
       "      <td>0.001826</td>\n",
       "      <td>0.001711</td>\n",
       "      <td>0.001623</td>\n",
       "      <td>0.001557</td>\n",
       "      <td>0.001511</td>\n",
       "      <td>0.001481</td>\n",
       "      <td>0.001466</td>\n",
       "      <td>102</td>\n",
       "    </tr>\n",
       "    <tr>\n",
       "      <th>1347</th>\n",
       "      <td>6.042133e-33</td>\n",
       "      <td>0.826871</td>\n",
       "      <td>0.193316</td>\n",
       "      <td>1.062180</td>\n",
       "      <td>1.150740</td>\n",
       "      <td>0.320715</td>\n",
       "      <td>2.360157</td>\n",
       "      <td>6.140360</td>\n",
       "      <td>0.664227</td>\n",
       "      <td>0.174520</td>\n",
       "      <td>...</td>\n",
       "      <td>0.001577</td>\n",
       "      <td>0.001455</td>\n",
       "      <td>0.001360</td>\n",
       "      <td>0.001286</td>\n",
       "      <td>0.001228</td>\n",
       "      <td>0.001185</td>\n",
       "      <td>0.001154</td>\n",
       "      <td>0.001134</td>\n",
       "      <td>0.001124</td>\n",
       "      <td>102</td>\n",
       "    </tr>\n",
       "    <tr>\n",
       "      <th>1348</th>\n",
       "      <td>1.546786e-32</td>\n",
       "      <td>0.186000</td>\n",
       "      <td>0.749761</td>\n",
       "      <td>2.659046</td>\n",
       "      <td>4.371832</td>\n",
       "      <td>3.025182</td>\n",
       "      <td>1.900683</td>\n",
       "      <td>2.024605</td>\n",
       "      <td>0.002826</td>\n",
       "      <td>1.049110</td>\n",
       "      <td>...</td>\n",
       "      <td>0.000058</td>\n",
       "      <td>0.000040</td>\n",
       "      <td>0.000027</td>\n",
       "      <td>0.000018</td>\n",
       "      <td>0.000012</td>\n",
       "      <td>0.000007</td>\n",
       "      <td>0.000004</td>\n",
       "      <td>0.000002</td>\n",
       "      <td>0.000002</td>\n",
       "      <td>102</td>\n",
       "    </tr>\n",
       "    <tr>\n",
       "      <th>1349</th>\n",
       "      <td>2.924392e-32</td>\n",
       "      <td>2.012996</td>\n",
       "      <td>4.131220</td>\n",
       "      <td>0.068555</td>\n",
       "      <td>14.719417</td>\n",
       "      <td>7.253742</td>\n",
       "      <td>6.379236</td>\n",
       "      <td>8.019246</td>\n",
       "      <td>1.914616</td>\n",
       "      <td>1.386683</td>\n",
       "      <td>...</td>\n",
       "      <td>0.001346</td>\n",
       "      <td>0.001250</td>\n",
       "      <td>0.001175</td>\n",
       "      <td>0.001115</td>\n",
       "      <td>0.001068</td>\n",
       "      <td>0.001032</td>\n",
       "      <td>0.001007</td>\n",
       "      <td>0.000990</td>\n",
       "      <td>0.000982</td>\n",
       "      <td>102</td>\n",
       "    </tr>\n",
       "  </tbody>\n",
       "</table>\n",
       "<p>1350 rows × 53 columns</p>\n",
       "</div>"
      ],
      "text/plain": [
       "                0         1         2         3          4         5   \\\n",
       "0     1.142341e-34  0.021134  0.042248  0.018720   0.153239  0.056538   \n",
       "1     1.510533e-35  0.511206  0.135747  0.214426   0.057022  0.097690   \n",
       "2     0.000000e+00  0.341286  0.280890  0.224551   0.365130  0.134873   \n",
       "3     3.776333e-36  0.096983  0.009131  0.041878   0.025238  0.087390   \n",
       "4     1.720592e-34  0.095673  0.527565  0.010894   0.113393  0.058851   \n",
       "...            ...       ...       ...       ...        ...       ...   \n",
       "1345  3.866965e-33  0.384115  0.482106  1.107081   0.009023  1.455718   \n",
       "1346  6.042133e-35  0.012462  0.825997  0.209650   1.909890  3.741720   \n",
       "1347  6.042133e-33  0.826871  0.193316  1.062180   1.150740  0.320715   \n",
       "1348  1.546786e-32  0.186000  0.749761  2.659046   4.371832  3.025182   \n",
       "1349  2.924392e-32  2.012996  4.131220  0.068555  14.719417  7.253742   \n",
       "\n",
       "            6          7         8         9   ...        43        44  \\\n",
       "0     0.012819   0.039911  0.021316  0.004667  ...  0.000299  0.000278   \n",
       "1     0.025796   0.201940  0.029280  0.002306  ...  0.000420  0.000393   \n",
       "2     0.055329   0.002446  0.003636  0.001134  ...  0.000331  0.000284   \n",
       "3     0.004583   0.082856  0.038574  0.007825  ...  0.000138  0.000126   \n",
       "4     0.180729   0.052457  0.013758  0.000690  ...  0.000109  0.000096   \n",
       "...        ...        ...       ...       ...  ...       ...       ...   \n",
       "1345  4.842425  29.461899  0.059302  0.334676  ...  0.002046  0.001865   \n",
       "1346  8.596658   1.387400  0.567016  0.368824  ...  0.002172  0.001976   \n",
       "1347  2.360157   6.140360  0.664227  0.174520  ...  0.001577  0.001455   \n",
       "1348  1.900683   2.024605  0.002826  1.049110  ...  0.000058  0.000040   \n",
       "1349  6.379236   8.019246  1.914616  1.386683  ...  0.001346  0.001250   \n",
       "\n",
       "            45        46        47        48        49        50        51  \\\n",
       "0     0.000262  0.000249  0.000239  0.000231  0.000225  0.000222  0.000220   \n",
       "1     0.000372  0.000354  0.000341  0.000330  0.000323  0.000318  0.000316   \n",
       "2     0.000249  0.000224  0.000205  0.000191  0.000182  0.000176  0.000173   \n",
       "3     0.000117  0.000110  0.000105  0.000101  0.000098  0.000096  0.000095   \n",
       "4     0.000086  0.000078  0.000073  0.000069  0.000066  0.000064  0.000064   \n",
       "...        ...       ...       ...       ...       ...       ...       ...   \n",
       "1345  0.001726  0.001620  0.001538  0.001478  0.001435  0.001407  0.001393   \n",
       "1346  0.001826  0.001711  0.001623  0.001557  0.001511  0.001481  0.001466   \n",
       "1347  0.001360  0.001286  0.001228  0.001185  0.001154  0.001134  0.001124   \n",
       "1348  0.000027  0.000018  0.000012  0.000007  0.000004  0.000002  0.000002   \n",
       "1349  0.001175  0.001115  0.001068  0.001032  0.001007  0.000990  0.000982   \n",
       "\n",
       "       52  \n",
       "0     101  \n",
       "1     101  \n",
       "2     101  \n",
       "3     101  \n",
       "4     101  \n",
       "...   ...  \n",
       "1345  102  \n",
       "1346  102  \n",
       "1347  102  \n",
       "1348  102  \n",
       "1349  102  \n",
       "\n",
       "[1350 rows x 53 columns]"
      ]
     },
     "execution_count": 221,
     "metadata": {},
     "output_type": "execute_result"
    }
   ],
   "source": [
    "df_psd"
   ]
  },
  {
   "cell_type": "code",
   "execution_count": 222,
   "metadata": {},
   "outputs": [],
   "source": [
    "means = []\n",
    "for element in codigos:\n",
    "    current_mean = []\n",
    "    for column in df_psd:\n",
    "        mean = np.mean(df_psd[column].values)\n",
    "        current_mean.append(mean)\n",
    "    current_mean = current_mean[:-1]\n",
    "    means.append(current_mean)"
   ]
  },
  {
   "cell_type": "code",
   "execution_count": 223,
   "metadata": {},
   "outputs": [
    {
     "data": {
      "text/plain": [
       "52"
      ]
     },
     "execution_count": 223,
     "metadata": {},
     "output_type": "execute_result"
    }
   ],
   "source": [
    "len(means[0])"
   ]
  },
  {
   "cell_type": "markdown",
   "metadata": {},
   "source": [
    "Ahora nos falta nuestras covarianzas"
   ]
  },
  {
   "cell_type": "code",
   "execution_count": 224,
   "metadata": {},
   "outputs": [],
   "source": [
    "covars = np.tile(np.identity(len(means[0])), (3, 1, 1)) #  4 estados"
   ]
  },
  {
   "cell_type": "markdown",
   "metadata": {},
   "source": [
    "Lets create the model"
   ]
  },
  {
   "cell_type": "code",
   "execution_count": 228,
   "metadata": {},
   "outputs": [],
   "source": [
    "model = hmm.GaussianHMM(n_components=3, covariance_type=\"full\")\n",
    "model.startprob_ = vector_inicial\n",
    "model.transmat_ = transiciones\n",
    "model.means_ = means\n",
    "model.covars_ = covars"
   ]
  },
  {
   "cell_type": "markdown",
   "metadata": {},
   "source": [
    "Nuestra cadena esta lista, vamos a probarla con pseudo online codigo"
   ]
  },
  {
   "cell_type": "code",
   "execution_count": null,
   "metadata": {},
   "outputs": [],
   "source": []
  },
  {
   "cell_type": "code",
   "execution_count": 229,
   "metadata": {},
   "outputs": [],
   "source": [
    "archivo = 'Izquierda - Derecha - Cerrado 2.txt'\n",
    "items_per_window = int(3840 * size_window/15)\n",
    "df = open_file(archivo)\n",
    "\n",
    "# Llenamos espacios vacios\n",
    "lecture_codes = df['Lecture code'].values\n",
    "new_lecture_codes = []\n",
    "expected = {101:0,102:0,103:0, 0:0}\n",
    "size = len(lecture_codes)\n",
    "active_signal = False\n",
    "last_signal = 0\n",
    "for i in range(size):\n",
    "    code = int(lecture_codes[i])\n",
    "\n",
    "    if code>=100 and code <=110:\n",
    "        expected[code]+=1\n",
    "        active_signal = True\n",
    "        last_signal = code\n",
    "\n",
    "    elif code >= 200 and active_signal:\n",
    "        active_signal = False\n",
    "        last_signal = 0\n",
    "    new_lecture_codes.append(last_signal)\n",
    "df['Lecture code'] = new_lecture_codes"
   ]
  },
  {
   "cell_type": "code",
   "execution_count": 230,
   "metadata": {},
   "outputs": [],
   "source": [
    "dic = {}\n",
    "vals = np.unique(df['Lecture code'].values)\n",
    "for val in vals:\n",
    "    dic[val] = {}\n",
    "    for rep_val in vals:\n",
    "        dic[val][rep_val] = 0\n",
    "\n",
    "posiciones_inv = {}\n",
    "for i in range(len(vals)):\n",
    "    posiciones_inv[i] = vals[i]\n",
    "\n",
    "current_items = 0\n",
    "initial = 0\n",
    "\n",
    "for i in range(df.shape[0]):\n",
    "    if current_items < items_per_window:\n",
    "        current_items +=1\n",
    "    else: #current element, ya es parte del nuevo\n",
    "        current_df = df.iloc[initial:i, :-1]\n",
    "        current_actual = df.iloc[initial:initial+1, -1].to_numpy()[0]\n",
    "        signal_processing = SignalProcessingOnline(current_df, canales)\n",
    "        signal_processing.apply_emg_filter()\n",
    "        signal_processing.process_data()\n",
    "        predicted_pos = model.predict(signal_processing.psd)[0]\n",
    "        dic[current_actual][posiciones_inv[predicted_pos]]+=1\n",
    "#         dic[current_actual][predicted]+=1\n",
    "        current_items = 0\n",
    "        initial=i\n",
    "        current_items+=1"
   ]
  },
  {
   "cell_type": "code",
   "execution_count": 231,
   "metadata": {},
   "outputs": [
    {
     "data": {
      "text/html": [
       "<div>\n",
       "<style scoped>\n",
       "    .dataframe tbody tr th:only-of-type {\n",
       "        vertical-align: middle;\n",
       "    }\n",
       "\n",
       "    .dataframe tbody tr th {\n",
       "        vertical-align: top;\n",
       "    }\n",
       "\n",
       "    .dataframe thead th {\n",
       "        text-align: right;\n",
       "    }\n",
       "</style>\n",
       "<table border=\"1\" class=\"dataframe\">\n",
       "  <thead>\n",
       "    <tr style=\"text-align: right;\">\n",
       "      <th></th>\n",
       "      <th>0</th>\n",
       "      <th>101</th>\n",
       "      <th>102</th>\n",
       "      <th>103</th>\n",
       "    </tr>\n",
       "  </thead>\n",
       "  <tbody>\n",
       "    <tr>\n",
       "      <th>0</th>\n",
       "      <td>930</td>\n",
       "      <td>0</td>\n",
       "      <td>0</td>\n",
       "      <td>0</td>\n",
       "    </tr>\n",
       "    <tr>\n",
       "      <th>101</th>\n",
       "      <td>450</td>\n",
       "      <td>0</td>\n",
       "      <td>0</td>\n",
       "      <td>0</td>\n",
       "    </tr>\n",
       "    <tr>\n",
       "      <th>102</th>\n",
       "      <td>451</td>\n",
       "      <td>0</td>\n",
       "      <td>0</td>\n",
       "      <td>0</td>\n",
       "    </tr>\n",
       "    <tr>\n",
       "      <th>103</th>\n",
       "      <td>454</td>\n",
       "      <td>0</td>\n",
       "      <td>0</td>\n",
       "      <td>0</td>\n",
       "    </tr>\n",
       "  </tbody>\n",
       "</table>\n",
       "</div>"
      ],
      "text/plain": [
       "     0    101  102  103\n",
       "0    930    0    0    0\n",
       "101  450    0    0    0\n",
       "102  451    0    0    0\n",
       "103  454    0    0    0"
      ]
     },
     "execution_count": 231,
     "metadata": {},
     "output_type": "execute_result"
    }
   ],
   "source": [
    "rows = []\n",
    "for key,val in dic.items():\n",
    "    row = []\n",
    "    for k,v in val.items():\n",
    "        row.append(v)\n",
    "    rows.append(row)\n",
    "df_results = pd.DataFrame(rows, index=vals, columns=vals)\n",
    "df_results"
   ]
  },
  {
   "cell_type": "code",
   "execution_count": 232,
   "metadata": {},
   "outputs": [
    {
     "data": {
      "text/plain": [
       "array([0])"
      ]
     },
     "execution_count": 232,
     "metadata": {},
     "output_type": "execute_result"
    }
   ],
   "source": [
    "model.predict([[3.4802686995044635e-32, 13.449013008287535, 0.99249998219671, 0.2642694892142612, 0.1047629319431145, 0.009252949443975558, 5.018882260633964, 2.7179014549618543, 1.8025534345435033, 0.1184393560773785, 0.08221083155321163, 0.021523803167552424, 0.006804757408252466, 0.0048744328396432305, 0.003454332389531693, 0.002308998391325007, 0.001634140597848978, 0.0011956109582950973, 0.000891177443504676, 0.0006756787284533355, 0.0005212850423937848, 0.00041044467610608343, 0.00033186414242207274, 0.0002781844581812399, 0.0002446999552900369, 0.00022861125827548654, 1.510533289715479e-33, 0.06397805159726738, 0.3293623214718144, 0.03319754936969074, 0.013139474325360417, 0.07799534852892069, 0.36416486602916587, 0.04941624790834005, 0.0856618400945681, 0.002957925426655831, 0.002398067370803024, 0.0007053251847456038, 0.0004144245651934756, 0.0002480587373756826, 0.00016852915761928814, 0.00012264747372397515, 8.946929761297988e-05, 6.70967673834511e-05, 5.166128570146462e-05, 4.078557195137339e-05, 3.3036532872515326e-05, 2.7502891897041582e-05, 2.3595763399857584e-05, 2.093463596530993e-05, 1.9277945384048577e-05, 1.8482827971576066e-05]])"
   ]
  },
  {
   "cell_type": "code",
   "execution_count": 185,
   "metadata": {},
   "outputs": [
    {
     "data": {
      "text/plain": [
       "{0: 0, 101: 1, 102: 2, 103: 3}"
      ]
     },
     "execution_count": 185,
     "metadata": {},
     "output_type": "execute_result"
    }
   ],
   "source": [
    "posiciones"
   ]
  },
  {
   "cell_type": "code",
   "execution_count": null,
   "metadata": {},
   "outputs": [],
   "source": []
  }
 ],
 "metadata": {
  "kernelspec": {
   "display_name": "signals",
   "language": "python",
   "name": "signals"
  },
  "language_info": {
   "codemirror_mode": {
    "name": "ipython",
    "version": 3
   },
   "file_extension": ".py",
   "mimetype": "text/x-python",
   "name": "python",
   "nbconvert_exporter": "python",
   "pygments_lexer": "ipython3",
   "version": "3.7.5"
  }
 },
 "nbformat": 4,
 "nbformat_minor": 4
}
